{
 "cells": [
  {
   "cell_type": "code",
   "execution_count": 143,
   "id": "8435062a-8dfc-4744-8eb3-d2e840e30288",
   "metadata": {},
   "outputs": [],
   "source": [
    "import pandas as pd\n",
    "\n",
    "# pd.set_option('future.no_silent_downcasting', True)\n",
    "\n"
   ]
  },
  {
   "cell_type": "code",
   "execution_count": null,
   "id": "7c80286e-c53b-452b-a167-373123f87e0d",
   "metadata": {},
   "outputs": [],
   "source": [
    "\n"
   ]
  },
  {
   "cell_type": "code",
   "execution_count": 144,
   "id": "d1b8d071-d58f-43bd-824b-bcde85f907d0",
   "metadata": {},
   "outputs": [
    {
     "data": {
      "text/html": [
       "<div>\n",
       "<style scoped>\n",
       "    .dataframe tbody tr th:only-of-type {\n",
       "        vertical-align: middle;\n",
       "    }\n",
       "\n",
       "    .dataframe tbody tr th {\n",
       "        vertical-align: top;\n",
       "    }\n",
       "\n",
       "    .dataframe thead th {\n",
       "        text-align: right;\n",
       "    }\n",
       "</style>\n",
       "<table border=\"1\" class=\"dataframe\">\n",
       "  <thead>\n",
       "    <tr style=\"text-align: right;\">\n",
       "      <th></th>\n",
       "      <th>PassengerId</th>\n",
       "      <th>Survived</th>\n",
       "      <th>Pclass</th>\n",
       "      <th>Name</th>\n",
       "      <th>Sex</th>\n",
       "      <th>Age</th>\n",
       "      <th>SibSp</th>\n",
       "      <th>Parch</th>\n",
       "      <th>Ticket</th>\n",
       "      <th>Fare</th>\n",
       "      <th>Cabin</th>\n",
       "      <th>Embarked</th>\n",
       "    </tr>\n",
       "  </thead>\n",
       "  <tbody>\n",
       "    <tr>\n",
       "      <th>516</th>\n",
       "      <td>517</td>\n",
       "      <td>1</td>\n",
       "      <td>2</td>\n",
       "      <td>Lemore, Mrs. (Amelia Milley)</td>\n",
       "      <td>female</td>\n",
       "      <td>34.0</td>\n",
       "      <td>0</td>\n",
       "      <td>0</td>\n",
       "      <td>C.A. 34260</td>\n",
       "      <td>10.50</td>\n",
       "      <td>F33</td>\n",
       "      <td>S</td>\n",
       "    </tr>\n",
       "    <tr>\n",
       "      <th>131</th>\n",
       "      <td>132</td>\n",
       "      <td>0</td>\n",
       "      <td>3</td>\n",
       "      <td>Coelho, Mr. Domingos Fernandeo</td>\n",
       "      <td>male</td>\n",
       "      <td>20.0</td>\n",
       "      <td>0</td>\n",
       "      <td>0</td>\n",
       "      <td>SOTON/O.Q. 3101307</td>\n",
       "      <td>7.05</td>\n",
       "      <td>NaN</td>\n",
       "      <td>S</td>\n",
       "    </tr>\n",
       "    <tr>\n",
       "      <th>539</th>\n",
       "      <td>540</td>\n",
       "      <td>1</td>\n",
       "      <td>1</td>\n",
       "      <td>Frolicher, Miss. Hedwig Margaritha</td>\n",
       "      <td>female</td>\n",
       "      <td>22.0</td>\n",
       "      <td>0</td>\n",
       "      <td>2</td>\n",
       "      <td>13568</td>\n",
       "      <td>49.50</td>\n",
       "      <td>B39</td>\n",
       "      <td>C</td>\n",
       "    </tr>\n",
       "    <tr>\n",
       "      <th>338</th>\n",
       "      <td>339</td>\n",
       "      <td>1</td>\n",
       "      <td>3</td>\n",
       "      <td>Dahl, Mr. Karl Edwart</td>\n",
       "      <td>male</td>\n",
       "      <td>45.0</td>\n",
       "      <td>0</td>\n",
       "      <td>0</td>\n",
       "      <td>7598</td>\n",
       "      <td>8.05</td>\n",
       "      <td>NaN</td>\n",
       "      <td>S</td>\n",
       "    </tr>\n",
       "    <tr>\n",
       "      <th>49</th>\n",
       "      <td>50</td>\n",
       "      <td>0</td>\n",
       "      <td>3</td>\n",
       "      <td>Arnold-Franchi, Mrs. Josef (Josefine Franchi)</td>\n",
       "      <td>female</td>\n",
       "      <td>18.0</td>\n",
       "      <td>1</td>\n",
       "      <td>0</td>\n",
       "      <td>349237</td>\n",
       "      <td>17.80</td>\n",
       "      <td>NaN</td>\n",
       "      <td>S</td>\n",
       "    </tr>\n",
       "  </tbody>\n",
       "</table>\n",
       "</div>"
      ],
      "text/plain": [
       "     PassengerId  Survived  Pclass  \\\n",
       "516          517         1       2   \n",
       "131          132         0       3   \n",
       "539          540         1       1   \n",
       "338          339         1       3   \n",
       "49            50         0       3   \n",
       "\n",
       "                                              Name     Sex   Age  SibSp  \\\n",
       "516                   Lemore, Mrs. (Amelia Milley)  female  34.0      0   \n",
       "131                 Coelho, Mr. Domingos Fernandeo    male  20.0      0   \n",
       "539             Frolicher, Miss. Hedwig Margaritha  female  22.0      0   \n",
       "338                          Dahl, Mr. Karl Edwart    male  45.0      0   \n",
       "49   Arnold-Franchi, Mrs. Josef (Josefine Franchi)  female  18.0      1   \n",
       "\n",
       "     Parch              Ticket   Fare Cabin Embarked  \n",
       "516      0          C.A. 34260  10.50   F33        S  \n",
       "131      0  SOTON/O.Q. 3101307   7.05   NaN        S  \n",
       "539      2               13568  49.50   B39        C  \n",
       "338      0                7598   8.05   NaN        S  \n",
       "49       0              349237  17.80   NaN        S  "
      ]
     },
     "execution_count": 144,
     "metadata": {},
     "output_type": "execute_result"
    }
   ],
   "source": [
    "df = pd.read_csv('train.csv')\n",
    "df.sample(5)\n",
    "            "
   ]
  },
  {
   "cell_type": "code",
   "execution_count": 145,
   "id": "2fa96652-118a-4676-a486-276ee8720b9e",
   "metadata": {},
   "outputs": [],
   "source": [
    "y = df['Survived']\n"
   ]
  },
  {
   "cell_type": "code",
   "execution_count": 146,
   "id": "08d78c84-3718-4b38-8ab3-69f41538c4b9",
   "metadata": {},
   "outputs": [],
   "source": [
    "x = df.drop(['Survived','PassengerId'],axis=1)"
   ]
  },
  {
   "cell_type": "code",
   "execution_count": 147,
   "id": "fa626f29-76fb-427f-b610-401d51c99620",
   "metadata": {},
   "outputs": [],
   "source": [
    "from sklearn.model_selection import train_test_split"
   ]
  },
  {
   "cell_type": "code",
   "execution_count": 148,
   "id": "8a9aa2db-0b71-4f0d-b9c2-f60cf3e413f3",
   "metadata": {},
   "outputs": [],
   "source": [
    "x_train, x_test, y_train, y_test = train_test_split(x,y,test_size=0.1)"
   ]
  },
  {
   "cell_type": "code",
   "execution_count": 149,
   "id": "da1dedd4-4a9f-49be-9e15-88155b6548e5",
   "metadata": {},
   "outputs": [
    {
     "name": "stdout",
     "output_type": "stream",
     "text": [
      "<class 'pandas.core.frame.DataFrame'>\n",
      "RangeIndex: 891 entries, 0 to 890\n",
      "Data columns (total 12 columns):\n",
      " #   Column       Non-Null Count  Dtype  \n",
      "---  ------       --------------  -----  \n",
      " 0   PassengerId  891 non-null    int64  \n",
      " 1   Survived     891 non-null    int64  \n",
      " 2   Pclass       891 non-null    int64  \n",
      " 3   Name         891 non-null    object \n",
      " 4   Sex          891 non-null    object \n",
      " 5   Age          714 non-null    float64\n",
      " 6   SibSp        891 non-null    int64  \n",
      " 7   Parch        891 non-null    int64  \n",
      " 8   Ticket       891 non-null    object \n",
      " 9   Fare         891 non-null    float64\n",
      " 10  Cabin        204 non-null    object \n",
      " 11  Embarked     889 non-null    object \n",
      "dtypes: float64(2), int64(5), object(5)\n",
      "memory usage: 83.7+ KB\n",
      "None\n"
     ]
    }
   ],
   "source": [
    "print(df.info())\n"
   ]
  },
  {
   "cell_type": "code",
   "execution_count": 150,
   "id": "c55d8eb5-edac-4e43-92fc-fc1d06ad0b22",
   "metadata": {},
   "outputs": [
    {
     "data": {
      "text/plain": [
       "(891, 12)"
      ]
     },
     "execution_count": 150,
     "metadata": {},
     "output_type": "execute_result"
    }
   ],
   "source": [
    "df.shape\n",
    "\n"
   ]
  },
  {
   "cell_type": "code",
   "execution_count": 151,
   "id": "53768f9c-17cb-4ec4-9983-d04d40f1be0f",
   "metadata": {},
   "outputs": [
    {
     "data": {
      "text/plain": [
       "Index(['PassengerId', 'Survived', 'Pclass', 'Name', 'Sex', 'Age', 'SibSp',\n",
       "       'Parch', 'Ticket', 'Fare', 'Cabin', 'Embarked'],\n",
       "      dtype='object')"
      ]
     },
     "execution_count": 151,
     "metadata": {},
     "output_type": "execute_result"
    }
   ],
   "source": [
    "df.columns\n"
   ]
  },
  {
   "cell_type": "code",
   "execution_count": 152,
   "id": "8d278f59-d38e-4d71-9b9e-cfc86c0026f4",
   "metadata": {},
   "outputs": [
    {
     "data": {
      "text/plain": [
       "PassengerId      0\n",
       "Survived         0\n",
       "Pclass           0\n",
       "Name             0\n",
       "Sex              0\n",
       "Age            177\n",
       "SibSp            0\n",
       "Parch            0\n",
       "Ticket           0\n",
       "Fare             0\n",
       "Cabin          687\n",
       "Embarked         2\n",
       "dtype: int64"
      ]
     },
     "execution_count": 152,
     "metadata": {},
     "output_type": "execute_result"
    }
   ],
   "source": [
    "df.isnull().sum()"
   ]
  },
  {
   "cell_type": "code",
   "execution_count": 153,
   "id": "13cb7a56-6ebf-45b8-9291-986c5f6951a2",
   "metadata": {},
   "outputs": [
    {
     "data": {
      "text/plain": [
       "(891, 12)"
      ]
     },
     "execution_count": 153,
     "metadata": {},
     "output_type": "execute_result"
    }
   ],
   "source": [
    "df.shape\n"
   ]
  },
  {
   "cell_type": "code",
   "execution_count": 154,
   "id": "e6bd6b15-8551-4b9b-b527-01e02806c65a",
   "metadata": {},
   "outputs": [
    {
     "name": "stdout",
     "output_type": "stream",
     "text": [
      "different titles found on the dataset\n",
      "17 : ['Capt', 'Col', 'Don', 'Dr', 'Jonkheer', 'Lady', 'Major', 'Master', 'Miss', 'Mlle', 'Mme', 'Mr', 'Mrs', 'Ms', 'Rev', 'Sir', 'the Countess']\n",
      "\n"
     ]
    }
   ],
   "source": [
    "\n",
    "def get_title(name):\n",
    "    if '.' in name:\n",
    "        return name.split(',')[1].split('.')[0].strip()\n",
    "    else:\n",
    "        return 'Uknown'\n",
    "\n",
    "\n",
    "titles = sorted(set([x for x in df.Name.map(lambda x: get_title(x))]))\n",
    "print('different titles found on the dataset')\n",
    "print(len(titles), ':', titles)\n",
    "print()\n"
   ]
  },
  {
   "cell_type": "code",
   "execution_count": 155,
   "id": "51809ed4-0f81-4d15-afdd-6254b85ffa68",
   "metadata": {},
   "outputs": [],
   "source": [
    "def replace_titles(x):\n",
    "    title = x['Title']\n",
    "    if title in ['Capt', 'Col', 'Major']:\n",
    "        return 'Officer'\n",
    "    elif title in ['Jonkheer', \"Don\", \"The Countess\", 'Dona', \"Lady\", \"Sir\"]:\n",
    "        return 'Royalty'\n",
    "    elif title in ['Mme', 'Lady', 'the Countess']:\n",
    "        return \"Mrs\"\n",
    "    elif title in ['Mlle', 'Ms']:\n",
    "        return \"Miss\"\n",
    "    else:\n",
    "        return title\n",
    "    "
   ]
  },
  {
   "cell_type": "code",
   "execution_count": 156,
   "id": "29a4bed5-180f-4148-9747-20ba4f859e22",
   "metadata": {},
   "outputs": [],
   "source": [
    "df['Title'] = df['Name'].map(lambda x: get_title(x))\n"
   ]
  },
  {
   "cell_type": "code",
   "execution_count": 157,
   "id": "8d49e98a-e5b8-4a23-8ef3-a9d84c1d2918",
   "metadata": {},
   "outputs": [
    {
     "name": "stdout",
     "output_type": "stream",
     "text": [
      "Title\n",
      "Mr         517\n",
      "Miss       185\n",
      "Mrs        127\n",
      "Master      40\n",
      "Dr           7\n",
      "Rev          6\n",
      "Officer      5\n",
      "Royalty      4\n",
      "Name: count, dtype: int64\n"
     ]
    }
   ],
   "source": [
    "df['Title'] = df.apply(replace_titles, axis=1)\n",
    "print(df.Title.value_counts())\n"
   ]
  },
  {
   "cell_type": "code",
   "execution_count": 158,
   "id": "ea029b7f-d27d-4397-b821-ef5b594f478f",
   "metadata": {},
   "outputs": [
    {
     "name": "stdout",
     "output_type": "stream",
     "text": [
      "PassengerId      0\n",
      "Survived         0\n",
      "Pclass           0\n",
      "Sex              0\n",
      "Age            177\n",
      "SibSp            0\n",
      "Parch            0\n",
      "Fare             0\n",
      "Embarked         2\n",
      "Title            0\n",
      "dtype: int64\n",
      "102    0\n",
      "458    1\n",
      "13     0\n",
      "9      1\n",
      "290    1\n",
      "540    1\n",
      "515    0\n",
      "352    0\n",
      "223    0\n",
      "818    0\n",
      "637    0\n",
      "221    0\n",
      "390    0\n",
      "825    0\n",
      "113    1\n",
      "226    0\n",
      "821    0\n",
      "182    0\n",
      "723    0\n",
      "745    0\n",
      "658    0\n",
      "356    1\n",
      "326    0\n",
      "804    0\n",
      "558    1\n",
      "819    0\n",
      "54     0\n",
      "183    0\n",
      "225    0\n",
      "652    0\n",
      "829    1\n",
      "449    0\n",
      "252    0\n",
      "238    0\n",
      "224    0\n",
      "862    1\n",
      "883    0\n",
      "551    0\n",
      "95     0\n",
      "47     1\n",
      "724    0\n",
      "397    0\n",
      "50     0\n",
      "457    1\n",
      "330    1\n",
      "563    0\n",
      "670    1\n",
      "216    1\n",
      "684    0\n",
      "879    1\n",
      "Name: Sex, dtype: int64\n",
      "16     2.0\n",
      "588    0.0\n",
      "471    0.0\n",
      "845    0.0\n",
      "619    0.0\n",
      "Name: Embarked, dtype: float64\n",
      "Index(['PassengerId', 'Survived', 'Pclass', 'Sex', 'Age', 'SibSp', 'Parch',\n",
      "       'Fare', 'Embarked', 'Title'],\n",
      "      dtype='object')\n"
     ]
    },
    {
     "name": "stderr",
     "output_type": "stream",
     "text": [
      "C:\\Users\\F_ben\\AppData\\Local\\Temp\\ipykernel_25068\\1202492960.py:6: FutureWarning: Downcasting behavior in `replace` is deprecated and will be removed in a future version. To retain the old behavior, explicitly call `result.infer_objects(copy=False)`. To opt-in to the future behavior, set `pd.set_option('future.no_silent_downcasting', True)`\n",
      "  df['Sex'] = df['Sex'].replace(sex_mapping)\n",
      "C:\\Users\\F_ben\\AppData\\Local\\Temp\\ipykernel_25068\\1202492960.py:8: FutureWarning: Downcasting behavior in `replace` is deprecated and will be removed in a future version. To retain the old behavior, explicitly call `result.infer_objects(copy=False)`. To opt-in to the future behavior, set `pd.set_option('future.no_silent_downcasting', True)`\n",
      "  df['Embarked'] = df['Embarked'].replace(embarked_mapping)\n",
      "C:\\Users\\F_ben\\AppData\\Local\\Temp\\ipykernel_25068\\1202492960.py:10: FutureWarning: Downcasting behavior in `replace` is deprecated and will be removed in a future version. To retain the old behavior, explicitly call `result.infer_objects(copy=False)`. To opt-in to the future behavior, set `pd.set_option('future.no_silent_downcasting', True)`\n",
      "  df['Title'] = df['Title'].replace(title_mapping)\n"
     ]
    }
   ],
   "source": [
    "df['Age'].fillna(df['Age'].median() )\n",
    "df['Fare'].fillna(df['Fare'].median())\n",
    "df['Embarked'].fillna(df['Embarked'].mode()[0])  # Fill with mode (most frequent value)\n",
    "df = df.drop(['Cabin', 'Ticket', 'Name'], axis=1)\n",
    "sex_mapping = {'male': 0, 'female': 1}\n",
    "df['Sex'] = df['Sex'].replace(sex_mapping)\n",
    "embarked_mapping = {'S': 0, 'C': 1, 'Q': 2}\n",
    "df['Embarked'] = df['Embarked'].replace(embarked_mapping)\n",
    "title_mapping = {'Mr': 0, 'Miss': 1, 'Mrs': 2, 'Master': 3, 'Dr': 4, 'Rev': 5, 'Officer': 6, 'Royalty': 7}\n",
    "df['Title'] = df['Title'].replace(title_mapping)\n",
    "print(df.isnull().sum())\n",
    "print(df['Sex'].sample(50))\n",
    "print(df['Embarked'].sample(5))\n",
    "print(df.columns)  # Fixed typo"
   ]
  },
  {
   "cell_type": "code",
   "execution_count": 159,
   "id": "0cc88fd6-ff91-4916-92e9-1f11115a11b0",
   "metadata": {
    "scrolled": true
   },
   "outputs": [
    {
     "name": "stdout",
     "output_type": "stream",
     "text": [
      "PassengerId      int64\n",
      "Survived         int64\n",
      "Pclass           int64\n",
      "Sex              int64\n",
      "Age            float64\n",
      "SibSp            int64\n",
      "Parch            int64\n",
      "Fare           float64\n",
      "Embarked       float64\n",
      "Title            int64\n",
      "dtype: object\n"
     ]
    },
    {
     "data": {
      "text/plain": [
       "Survived       1.000000\n",
       "Sex            0.543351\n",
       "Title          0.360843\n",
       "Fare           0.257307\n",
       "Embarked       0.108669\n",
       "Parch          0.081629\n",
       "PassengerId   -0.005007\n",
       "SibSp         -0.035322\n",
       "Age           -0.077221\n",
       "Pclass        -0.338481\n",
       "Name: Survived, dtype: float64"
      ]
     },
     "execution_count": 159,
     "metadata": {},
     "output_type": "execute_result"
    }
   ],
   "source": [
    "print(df.dtypes)\n",
    "# print(df.Title.value_counts())\n",
    "\n",
    "corr = df.corr()\n",
    "corr.Survived.sort_values(ascending=False)"
   ]
  },
  {
   "cell_type": "code",
   "execution_count": 160,
   "id": "f11600f1-5441-4429-a806-f1b5aaac05a9",
   "metadata": {},
   "outputs": [],
   "source": [
    "from sklearn.model_selection import train_test_split"
   ]
  },
  {
   "cell_type": "code",
   "execution_count": 161,
   "id": "e6aa3b4b-52d3-4172-9ea4-4a51c4a730a1",
   "metadata": {},
   "outputs": [],
   "source": [
    "x = df.drop(['Survived', 'PassengerId'], axis =1)\n",
    "y = df['Survived']\n",
    "x_train, x_val, y_train, y_val = train_test_split(x,y, test_size =0.1)"
   ]
  },
  {
   "cell_type": "code",
   "execution_count": 162,
   "id": "ea0ae81c-aab5-438c-93d0-d5b96e7b6cd4",
   "metadata": {},
   "outputs": [
    {
     "name": "stdout",
     "output_type": "stream",
     "text": [
      "Accuracy : 80.0\n"
     ]
    }
   ],
   "source": [
    "import pickle\n",
    "from sklearn.ensemble import RandomForestClassifier  # Corrected import\n",
    "from sklearn.metrics import accuracy_score\n",
    "\n",
    "# Assuming x_train, y_train, x_val, y_val are defined\n",
    "randomforest = RandomForestClassifier()\n",
    "randomforest.fit(x_train, y_train)\n",
    "y_pred = randomforest.predict(x_val)\n",
    "acc_randomforest = round(accuracy_score(y_pred, y_val) * 100, 2)  # Corrected typo in accuracy_score\n",
    "print('Accuracy :',acc_randomforest)\n",
    "\n",
    "# Saving the model to a file\n",
    "pickle.dump(randomforest, open('titanic_model.sav', 'wb'))  # Corrected the mode in the open function\n"
   ]
  },
  {
   "cell_type": "code",
   "execution_count": null,
   "id": "c1f03064-435f-4674-9533-c11cde0bfac3",
   "metadata": {},
   "outputs": [],
   "source": []
  },
  {
   "cell_type": "code",
   "execution_count": null,
   "id": "6d6c5007-5bf5-4715-b5fd-c66915a645ef",
   "metadata": {},
   "outputs": [],
   "source": []
  },
  {
   "cell_type": "code",
   "execution_count": null,
   "id": "4aa575f8-cce5-4325-bc07-00a4aa1b962c",
   "metadata": {},
   "outputs": [],
   "source": []
  },
  {
   "cell_type": "code",
   "execution_count": null,
   "id": "1efe8766-d81e-4699-98c8-96ca2b316bba",
   "metadata": {},
   "outputs": [],
   "source": []
  }
 ],
 "metadata": {
  "kernelspec": {
   "display_name": "Python 3 (ipykernel)",
   "language": "python",
   "name": "python3"
  },
  "language_info": {
   "codemirror_mode": {
    "name": "ipython",
    "version": 3
   },
   "file_extension": ".py",
   "mimetype": "text/x-python",
   "name": "python",
   "nbconvert_exporter": "python",
   "pygments_lexer": "ipython3",
   "version": "3.11.0"
  }
 },
 "nbformat": 4,
 "nbformat_minor": 5
}
