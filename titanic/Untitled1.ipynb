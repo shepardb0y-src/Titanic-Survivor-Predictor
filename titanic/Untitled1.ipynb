{
 "cells": [
  {
   "cell_type": "code",
   "execution_count": 4,
   "id": "2caf66d1-b7fc-44c0-bd0f-93ddea7c9d56",
   "metadata": {},
   "outputs": [
    {
     "name": "stdout",
     "output_type": "stream",
     "text": [
      "Accuracy : 75.56\n"
     ]
    },
    {
     "name": "stderr",
     "output_type": "stream",
     "text": [
      "C:\\Users\\F_ben\\AppData\\Local\\Temp\\ipykernel_24384\\2978278907.py:45: FutureWarning: Downcasting behavior in `replace` is deprecated and will be removed in a future version. To retain the old behavior, explicitly call `result.infer_objects(copy=False)`. To opt-in to the future behavior, set `pd.set_option('future.no_silent_downcasting', True)`\n",
      "  df['Sex'] = df['Sex'].replace(sex_mapping)\n",
      "C:\\Users\\F_ben\\AppData\\Local\\Temp\\ipykernel_24384\\2978278907.py:47: FutureWarning: Downcasting behavior in `replace` is deprecated and will be removed in a future version. To retain the old behavior, explicitly call `result.infer_objects(copy=False)`. To opt-in to the future behavior, set `pd.set_option('future.no_silent_downcasting', True)`\n",
      "  df['Embarked'] = df['Embarked'].replace(embarked_mapping)\n",
      "C:\\Users\\F_ben\\AppData\\Local\\Temp\\ipykernel_24384\\2978278907.py:49: FutureWarning: Downcasting behavior in `replace` is deprecated and will be removed in a future version. To retain the old behavior, explicitly call `result.infer_objects(copy=False)`. To opt-in to the future behavior, set `pd.set_option('future.no_silent_downcasting', True)`\n",
      "  df['Title'] = df['Title'].replace(title_mapping)\n"
     ]
    }
   ],
   "source": [
    "import pandas as pd\n",
    "from sklearn.model_selection import train_test_split\n",
    "import pickle\n",
    "from sklearn.ensemble import RandomForestClassifier  # Corrected import\n",
    "from sklearn.metrics import accuracy_score\n",
    "\n",
    "\n",
    "df =pd.read_csv('train.csv')\n",
    "df.sample(5)\n",
    "\n",
    "\n",
    "\n",
    "def get_title(name):\n",
    "    if '.' in name:\n",
    "        return name.split(',')[1].split('.')[0].strip()\n",
    "    else:\n",
    "        return 'Uknown'\n",
    "\n",
    "df['Title'] = df['Name'].map(lambda x: get_title(x))\n",
    "\n",
    "def replace_titles(x):\n",
    "    title = x['Title']\n",
    "    if title in ['Capt', 'Col', 'Major']:\n",
    "        return 'Officer'\n",
    "    elif title in ['Jonkheer', \"Don\", \"The Countess\", 'Dona', \"Lady\", \"Sir\"]:\n",
    "        return 'Royalty'\n",
    "    elif title in ['Mme', 'Lady', 'the Countess']:\n",
    "        return \"Mrs\"\n",
    "    elif title in ['Mlle', 'Ms']:\n",
    "        return \"Miss\"\n",
    "    else:\n",
    "        return title\n",
    "    \n",
    "\n",
    "\n",
    "\n",
    "df['Title'] = df.apply(replace_titles, axis=1)\n",
    "\n",
    "\n",
    "df['Age'].fillna(df['Age'].median() )\n",
    "df['Fare'].fillna(df['Fare'].median())\n",
    "df['Embarked'].fillna(df['Embarked'].mode()[0])  # Fill with mode (most frequent value)\n",
    "df = df.drop(['Cabin', 'Ticket', 'Name'], axis=1)\n",
    "sex_mapping = {'male': 0, 'female': 1}\n",
    "df['Sex'] = df['Sex'].replace(sex_mapping)\n",
    "embarked_mapping = {'S': 0, 'C': 1, 'Q': 2}\n",
    "df['Embarked'] = df['Embarked'].replace(embarked_mapping)\n",
    "title_mapping = {'Mr': 0, 'Miss': 1, 'Mrs': 2, 'Master': 3, 'Dr': 4, 'Rev': 5, 'Officer': 6, 'Royalty': 7}\n",
    "df['Title'] = df['Title'].replace(title_mapping)\n",
    "\n",
    "x = df.drop(['Survived', 'PassengerId'], axis =1)\n",
    "y = df['Survived']\n",
    "x_train, x_val, y_train, y_val = train_test_split(x,y, test_size =0.1)\n",
    "\n",
    "randomforest = RandomForestClassifier()\n",
    "randomforest.fit(x_train, y_train)\n",
    "y_pred = randomforest.predict(x_val)\n",
    "acc_randomforest = round(accuracy_score(y_pred, y_val) * 100, 2)  # Corrected typo in accuracy_score\n",
    "print('Accuracy :',acc_randomforest)\n",
    "\n",
    "# Saving the model to a file\n",
    "pickle.dump(randomforest, open('titanic_model.sav', 'wb'))  # Corrected the mode in the open function\n",
    "\n",
    "\n",
    "\n",
    "\n",
    "\n",
    "\n"
   ]
  },
  {
   "cell_type": "code",
   "execution_count": 5,
   "id": "12356063-b1f2-4235-bb15-35fbe9e2453b",
   "metadata": {},
   "outputs": [],
   "source": [
    "def prediction_model(pclass,sex,age,sibsp,parch,fare,embarked,title):\n",
    "    import pickle\n",
    "    x = [[pclass,sex,age,sibsp,parch,fare,embarked,title]]\n",
    "    randomforest = pickle.load(open('titanic_model.sav', 'rb'))\n",
    "    predictions = randomforest.predict(x)\n",
    "    print(predictions)"
   ]
  },
  {
   "cell_type": "code",
   "execution_count": 6,
   "id": "b19b5c76-35c1-4bac-abf2-36d107695057",
   "metadata": {},
   "outputs": [
    {
     "name": "stdout",
     "output_type": "stream",
     "text": [
      "[1]\n"
     ]
    },
    {
     "name": "stderr",
     "output_type": "stream",
     "text": [
      "C:\\Users\\F_ben\\AppData\\Local\\Programs\\Python\\Python311\\Lib\\site-packages\\sklearn\\base.py:493: UserWarning: X does not have valid feature names, but RandomForestClassifier was fitted with feature names\n",
      "  warnings.warn(\n"
     ]
    }
   ],
   "source": [
    "prediction_model(1,1,11,1,1,19,1,1)"
   ]
  }
 ],
 "metadata": {
  "kernelspec": {
   "display_name": "Python 3 (ipykernel)",
   "language": "python",
   "name": "python3"
  },
  "language_info": {
   "codemirror_mode": {
    "name": "ipython",
    "version": 3
   },
   "file_extension": ".py",
   "mimetype": "text/x-python",
   "name": "python",
   "nbconvert_exporter": "python",
   "pygments_lexer": "ipython3",
   "version": "3.11.0"
  }
 },
 "nbformat": 4,
 "nbformat_minor": 5
}
