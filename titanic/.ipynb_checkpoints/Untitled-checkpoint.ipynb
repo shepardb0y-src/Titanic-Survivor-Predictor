{
 "cells": [
  {
   "cell_type": "code",
   "execution_count": 566,
   "id": "8435062a-8dfc-4744-8eb3-d2e840e30288",
   "metadata": {},
   "outputs": [],
   "source": [
    "import pandas as pd\n",
    "\n",
    "# pd.set_option('future.no_silent_downcasting', True)\n",
    "\n"
   ]
  },
  {
   "cell_type": "code",
   "execution_count": null,
   "id": "7c80286e-c53b-452b-a167-373123f87e0d",
   "metadata": {},
   "outputs": [],
   "source": [
    "\n"
   ]
  },
  {
   "cell_type": "code",
   "execution_count": 567,
   "id": "d1b8d071-d58f-43bd-824b-bcde85f907d0",
   "metadata": {},
   "outputs": [
    {
     "data": {
      "text/html": [
       "<div>\n",
       "<style scoped>\n",
       "    .dataframe tbody tr th:only-of-type {\n",
       "        vertical-align: middle;\n",
       "    }\n",
       "\n",
       "    .dataframe tbody tr th {\n",
       "        vertical-align: top;\n",
       "    }\n",
       "\n",
       "    .dataframe thead th {\n",
       "        text-align: right;\n",
       "    }\n",
       "</style>\n",
       "<table border=\"1\" class=\"dataframe\">\n",
       "  <thead>\n",
       "    <tr style=\"text-align: right;\">\n",
       "      <th></th>\n",
       "      <th>PassengerId</th>\n",
       "      <th>Survived</th>\n",
       "      <th>Pclass</th>\n",
       "      <th>Name</th>\n",
       "      <th>Sex</th>\n",
       "      <th>Age</th>\n",
       "      <th>SibSp</th>\n",
       "      <th>Parch</th>\n",
       "      <th>Ticket</th>\n",
       "      <th>Fare</th>\n",
       "      <th>Cabin</th>\n",
       "      <th>Embarked</th>\n",
       "    </tr>\n",
       "  </thead>\n",
       "  <tbody>\n",
       "    <tr>\n",
       "      <th>599</th>\n",
       "      <td>600</td>\n",
       "      <td>1</td>\n",
       "      <td>1</td>\n",
       "      <td>Duff Gordon, Sir. Cosmo Edmund (\"Mr Morgan\")</td>\n",
       "      <td>male</td>\n",
       "      <td>49.0</td>\n",
       "      <td>1</td>\n",
       "      <td>0</td>\n",
       "      <td>PC 17485</td>\n",
       "      <td>56.9292</td>\n",
       "      <td>A20</td>\n",
       "      <td>C</td>\n",
       "    </tr>\n",
       "    <tr>\n",
       "      <th>689</th>\n",
       "      <td>690</td>\n",
       "      <td>1</td>\n",
       "      <td>1</td>\n",
       "      <td>Madill, Miss. Georgette Alexandra</td>\n",
       "      <td>female</td>\n",
       "      <td>15.0</td>\n",
       "      <td>0</td>\n",
       "      <td>1</td>\n",
       "      <td>24160</td>\n",
       "      <td>211.3375</td>\n",
       "      <td>B5</td>\n",
       "      <td>S</td>\n",
       "    </tr>\n",
       "    <tr>\n",
       "      <th>29</th>\n",
       "      <td>30</td>\n",
       "      <td>0</td>\n",
       "      <td>3</td>\n",
       "      <td>Todoroff, Mr. Lalio</td>\n",
       "      <td>male</td>\n",
       "      <td>NaN</td>\n",
       "      <td>0</td>\n",
       "      <td>0</td>\n",
       "      <td>349216</td>\n",
       "      <td>7.8958</td>\n",
       "      <td>NaN</td>\n",
       "      <td>S</td>\n",
       "    </tr>\n",
       "    <tr>\n",
       "      <th>103</th>\n",
       "      <td>104</td>\n",
       "      <td>0</td>\n",
       "      <td>3</td>\n",
       "      <td>Johansson, Mr. Gustaf Joel</td>\n",
       "      <td>male</td>\n",
       "      <td>33.0</td>\n",
       "      <td>0</td>\n",
       "      <td>0</td>\n",
       "      <td>7540</td>\n",
       "      <td>8.6542</td>\n",
       "      <td>NaN</td>\n",
       "      <td>S</td>\n",
       "    </tr>\n",
       "    <tr>\n",
       "      <th>262</th>\n",
       "      <td>263</td>\n",
       "      <td>0</td>\n",
       "      <td>1</td>\n",
       "      <td>Taussig, Mr. Emil</td>\n",
       "      <td>male</td>\n",
       "      <td>52.0</td>\n",
       "      <td>1</td>\n",
       "      <td>1</td>\n",
       "      <td>110413</td>\n",
       "      <td>79.6500</td>\n",
       "      <td>E67</td>\n",
       "      <td>S</td>\n",
       "    </tr>\n",
       "  </tbody>\n",
       "</table>\n",
       "</div>"
      ],
      "text/plain": [
       "     PassengerId  Survived  Pclass  \\\n",
       "599          600         1       1   \n",
       "689          690         1       1   \n",
       "29            30         0       3   \n",
       "103          104         0       3   \n",
       "262          263         0       1   \n",
       "\n",
       "                                             Name     Sex   Age  SibSp  Parch  \\\n",
       "599  Duff Gordon, Sir. Cosmo Edmund (\"Mr Morgan\")    male  49.0      1      0   \n",
       "689             Madill, Miss. Georgette Alexandra  female  15.0      0      1   \n",
       "29                            Todoroff, Mr. Lalio    male   NaN      0      0   \n",
       "103                    Johansson, Mr. Gustaf Joel    male  33.0      0      0   \n",
       "262                             Taussig, Mr. Emil    male  52.0      1      1   \n",
       "\n",
       "       Ticket      Fare Cabin Embarked  \n",
       "599  PC 17485   56.9292   A20        C  \n",
       "689     24160  211.3375    B5        S  \n",
       "29     349216    7.8958   NaN        S  \n",
       "103      7540    8.6542   NaN        S  \n",
       "262    110413   79.6500   E67        S  "
      ]
     },
     "execution_count": 567,
     "metadata": {},
     "output_type": "execute_result"
    }
   ],
   "source": [
    "df = pd.read_csv('train.csv')\n",
    "df.sample(5)\n",
    "            "
   ]
  },
  {
   "cell_type": "code",
   "execution_count": 568,
   "id": "2fa96652-118a-4676-a486-276ee8720b9e",
   "metadata": {},
   "outputs": [],
   "source": [
    "y = df['Survived']\n"
   ]
  },
  {
   "cell_type": "code",
   "execution_count": 569,
   "id": "08d78c84-3718-4b38-8ab3-69f41538c4b9",
   "metadata": {},
   "outputs": [],
   "source": [
    "x = df.drop(['Survived','PassengerId'],axis=1)"
   ]
  },
  {
   "cell_type": "code",
   "execution_count": 570,
   "id": "fa626f29-76fb-427f-b610-401d51c99620",
   "metadata": {},
   "outputs": [],
   "source": [
    "from sklearn.model_selection import train_test_split"
   ]
  },
  {
   "cell_type": "code",
   "execution_count": 571,
   "id": "8a9aa2db-0b71-4f0d-b9c2-f60cf3e413f3",
   "metadata": {},
   "outputs": [],
   "source": [
    "x_train, x_test, y_train, y_test = train_test_split(x,y,test_size=0.1)"
   ]
  },
  {
   "cell_type": "code",
   "execution_count": 572,
   "id": "da1dedd4-4a9f-49be-9e15-88155b6548e5",
   "metadata": {},
   "outputs": [
    {
     "name": "stdout",
     "output_type": "stream",
     "text": [
      "<class 'pandas.core.frame.DataFrame'>\n",
      "RangeIndex: 891 entries, 0 to 890\n",
      "Data columns (total 12 columns):\n",
      " #   Column       Non-Null Count  Dtype  \n",
      "---  ------       --------------  -----  \n",
      " 0   PassengerId  891 non-null    int64  \n",
      " 1   Survived     891 non-null    int64  \n",
      " 2   Pclass       891 non-null    int64  \n",
      " 3   Name         891 non-null    object \n",
      " 4   Sex          891 non-null    object \n",
      " 5   Age          714 non-null    float64\n",
      " 6   SibSp        891 non-null    int64  \n",
      " 7   Parch        891 non-null    int64  \n",
      " 8   Ticket       891 non-null    object \n",
      " 9   Fare         891 non-null    float64\n",
      " 10  Cabin        204 non-null    object \n",
      " 11  Embarked     889 non-null    object \n",
      "dtypes: float64(2), int64(5), object(5)\n",
      "memory usage: 83.7+ KB\n",
      "None\n"
     ]
    }
   ],
   "source": [
    "print(df.info())\n"
   ]
  },
  {
   "cell_type": "code",
   "execution_count": 573,
   "id": "c55d8eb5-edac-4e43-92fc-fc1d06ad0b22",
   "metadata": {},
   "outputs": [
    {
     "data": {
      "text/plain": [
       "(891, 12)"
      ]
     },
     "execution_count": 573,
     "metadata": {},
     "output_type": "execute_result"
    }
   ],
   "source": [
    "df.shape\n",
    "\n"
   ]
  },
  {
   "cell_type": "code",
   "execution_count": 574,
   "id": "53768f9c-17cb-4ec4-9983-d04d40f1be0f",
   "metadata": {},
   "outputs": [
    {
     "data": {
      "text/plain": [
       "Index(['PassengerId', 'Survived', 'Pclass', 'Name', 'Sex', 'Age', 'SibSp',\n",
       "       'Parch', 'Ticket', 'Fare', 'Cabin', 'Embarked'],\n",
       "      dtype='object')"
      ]
     },
     "execution_count": 574,
     "metadata": {},
     "output_type": "execute_result"
    }
   ],
   "source": [
    "df.columns\n"
   ]
  },
  {
   "cell_type": "code",
   "execution_count": 575,
   "id": "8d278f59-d38e-4d71-9b9e-cfc86c0026f4",
   "metadata": {},
   "outputs": [
    {
     "data": {
      "text/plain": [
       "PassengerId      0\n",
       "Survived         0\n",
       "Pclass           0\n",
       "Name             0\n",
       "Sex              0\n",
       "Age            177\n",
       "SibSp            0\n",
       "Parch            0\n",
       "Ticket           0\n",
       "Fare             0\n",
       "Cabin          687\n",
       "Embarked         2\n",
       "dtype: int64"
      ]
     },
     "execution_count": 575,
     "metadata": {},
     "output_type": "execute_result"
    }
   ],
   "source": [
    "df.isnull().sum()"
   ]
  },
  {
   "cell_type": "code",
   "execution_count": 576,
   "id": "13cb7a56-6ebf-45b8-9291-986c5f6951a2",
   "metadata": {},
   "outputs": [
    {
     "data": {
      "text/plain": [
       "(891, 12)"
      ]
     },
     "execution_count": 576,
     "metadata": {},
     "output_type": "execute_result"
    }
   ],
   "source": [
    "df.shape\n"
   ]
  },
  {
   "cell_type": "code",
   "execution_count": 577,
   "id": "e6bd6b15-8551-4b9b-b527-01e02806c65a",
   "metadata": {},
   "outputs": [
    {
     "name": "stdout",
     "output_type": "stream",
     "text": [
      "different titles found on the dataset\n",
      "17 : ['Capt', 'Col', 'Don', 'Dr', 'Jonkheer', 'Lady', 'Major', 'Master', 'Miss', 'Mlle', 'Mme', 'Mr', 'Mrs', 'Ms', 'Rev', 'Sir', 'the Countess']\n",
      "\n"
     ]
    }
   ],
   "source": [
    "\n",
    "def get_title(name):\n",
    "    if '.' in name:\n",
    "        return name.split(',')[1].split('.')[0].strip()\n",
    "    else:\n",
    "        return 'Uknown'\n",
    "\n",
    "\n",
    "titles = sorted(set([x for x in df.Name.map(lambda x: get_title(x))]))\n",
    "print('different titles found on the dataset')\n",
    "print(len(titles), ':', titles)\n",
    "print()\n"
   ]
  },
  {
   "cell_type": "code",
   "execution_count": 578,
   "id": "51809ed4-0f81-4d15-afdd-6254b85ffa68",
   "metadata": {},
   "outputs": [],
   "source": [
    "def replace_titles(x):\n",
    "    title = x['Title']\n",
    "    if title in ['Capt', 'Col', 'Major']:\n",
    "        return 'Officer'\n",
    "    elif title in ['Jonkheer', \"Don\", \"The Countess\", 'Dona', \"Lady\", \"Sir\"]:\n",
    "        return 'Royalty'\n",
    "    elif title in ['Mme', 'Lady', 'the Countess']:\n",
    "        return \"Mrs\"\n",
    "    elif title in ['Mlle', 'Ms']:\n",
    "        return \"Miss\"\n",
    "    else:\n",
    "        return title\n",
    "    "
   ]
  },
  {
   "cell_type": "code",
   "execution_count": 579,
   "id": "29a4bed5-180f-4148-9747-20ba4f859e22",
   "metadata": {},
   "outputs": [],
   "source": [
    "df['Title'] = df['Name'].map(lambda x: get_title(x))\n"
   ]
  },
  {
   "cell_type": "code",
   "execution_count": 580,
   "id": "8d49e98a-e5b8-4a23-8ef3-a9d84c1d2918",
   "metadata": {},
   "outputs": [
    {
     "name": "stdout",
     "output_type": "stream",
     "text": [
      "Title\n",
      "Mr         517\n",
      "Miss       185\n",
      "Mrs        127\n",
      "Master      40\n",
      "Dr           7\n",
      "Rev          6\n",
      "Officer      5\n",
      "Royalty      4\n",
      "Name: count, dtype: int64\n"
     ]
    }
   ],
   "source": [
    "df['Title'] = df.apply(replace_titles, axis=1)\n",
    "print(df.Title.value_counts())\n"
   ]
  },
  {
   "cell_type": "code",
   "execution_count": 581,
   "id": "ea029b7f-d27d-4397-b821-ef5b594f478f",
   "metadata": {},
   "outputs": [
    {
     "name": "stdout",
     "output_type": "stream",
     "text": [
      "PassengerId      0\n",
      "Survived         0\n",
      "Pclass           0\n",
      "Sex              0\n",
      "Age            177\n",
      "SibSp            0\n",
      "Parch            0\n",
      "Fare             0\n",
      "Embarked         2\n",
      "Title            0\n",
      "dtype: int64\n",
      "636    0\n",
      "843    0\n",
      "369    1\n",
      "481    0\n",
      "569    0\n",
      "597    0\n",
      "610    1\n",
      "732    0\n",
      "778    0\n",
      "241    1\n",
      "829    1\n",
      "509    0\n",
      "181    0\n",
      "890    0\n",
      "411    0\n",
      "546    1\n",
      "874    1\n",
      "840    0\n",
      "728    0\n",
      "474    1\n",
      "881    0\n",
      "524    0\n",
      "521    0\n",
      "815    0\n",
      "592    0\n",
      "510    0\n",
      "861    0\n",
      "161    1\n",
      "126    0\n",
      "536    0\n",
      "115    0\n",
      "716    1\n",
      "94     0\n",
      "446    1\n",
      "763    1\n",
      "328    1\n",
      "800    0\n",
      "64     0\n",
      "877    0\n",
      "856    1\n",
      "256    1\n",
      "33     0\n",
      "40     1\n",
      "50     0\n",
      "347    1\n",
      "626    0\n",
      "456    0\n",
      "396    1\n",
      "174    0\n",
      "201    0\n",
      "Name: Sex, dtype: object\n",
      "411    2\n",
      "657    2\n",
      "115    0\n",
      "70     0\n",
      "230    0\n",
      "Name: Embarked, dtype: object\n",
      "Index(['PassengerId', 'Survived', 'Pclass', 'Sex', 'Age', 'SibSp', 'Parch',\n",
      "       'Fare', 'Embarked', 'Title'],\n",
      "      dtype='object')\n"
     ]
    }
   ],
   "source": [
    "df['Age'].fillna(df['Age'].median() )\n",
    "df['Fare'].fillna(df['Fare'].median())\n",
    "df['Embarked'].fillna(df['Embarked'].mode()[0])  # Fill with mode (most frequent value)\n",
    "df = df.drop(['Cabin', 'Ticket', 'Name'], axis=1)\n",
    "sex_mapping = {'male': 0, 'female': 1}\n",
    "df['Sex'] = df['Sex'].replace(sex_mapping)\n",
    "embarked_mapping = {'S': 0, 'C': 1, 'Q': 2}\n",
    "df['Embarked'] = df['Embarked'].replace(embarked_mapping)\n",
    "title_mapping = {'Mr': 0, 'Miss': 1, 'Mrs': 2, 'Master': 3, 'Dr': 4, 'Rev': 5, 'Officer': 6, 'Royalty': 7}\n",
    "df['Title'] = df['Title'].replace(title_mapping)\n",
    "print(df.isnull().sum())\n",
    "print(df['Sex'].sample(50))\n",
    "print(df['Embarked'].sample(5))\n",
    "print(df.columns)  # Fixed typo"
   ]
  },
  {
   "cell_type": "code",
   "execution_count": 582,
   "id": "0cc88fd6-ff91-4916-92e9-1f11115a11b0",
   "metadata": {
    "scrolled": true
   },
   "outputs": [
    {
     "name": "stdout",
     "output_type": "stream",
     "text": [
      "PassengerId      int64\n",
      "Survived         int64\n",
      "Pclass           int64\n",
      "Sex             object\n",
      "Age            float64\n",
      "SibSp            int64\n",
      "Parch            int64\n",
      "Fare           float64\n",
      "Embarked        object\n",
      "Title           object\n",
      "dtype: object\n"
     ]
    },
    {
     "data": {
      "text/plain": [
       "Survived       1.000000\n",
       "Sex            0.543351\n",
       "Title          0.360843\n",
       "Fare           0.257307\n",
       "Embarked       0.108669\n",
       "Parch          0.081629\n",
       "PassengerId   -0.005007\n",
       "SibSp         -0.035322\n",
       "Age           -0.077221\n",
       "Pclass        -0.338481\n",
       "Name: Survived, dtype: float64"
      ]
     },
     "execution_count": 582,
     "metadata": {},
     "output_type": "execute_result"
    }
   ],
   "source": [
    "print(df.dtypes)\n",
    "# print(df.Title.value_counts())\n",
    "\n",
    "corr = df.corr()\n",
    "corr.Survived.sort_values(ascending=False)"
   ]
  },
  {
   "cell_type": "code",
   "execution_count": null,
   "id": "f11600f1-5441-4429-a806-f1b5aaac05a9",
   "metadata": {},
   "outputs": [],
   "source": []
  },
  {
   "cell_type": "code",
   "execution_count": null,
   "id": "e6aa3b4b-52d3-4172-9ea4-4a51c4a730a1",
   "metadata": {},
   "outputs": [],
   "source": []
  },
  {
   "cell_type": "code",
   "execution_count": null,
   "id": "ea0ae81c-aab5-438c-93d0-d5b96e7b6cd4",
   "metadata": {},
   "outputs": [],
   "source": []
  },
  {
   "cell_type": "code",
   "execution_count": null,
   "id": "c1f03064-435f-4674-9533-c11cde0bfac3",
   "metadata": {},
   "outputs": [],
   "source": []
  },
  {
   "cell_type": "code",
   "execution_count": null,
   "id": "6d6c5007-5bf5-4715-b5fd-c66915a645ef",
   "metadata": {},
   "outputs": [],
   "source": []
  },
  {
   "cell_type": "code",
   "execution_count": null,
   "id": "4aa575f8-cce5-4325-bc07-00a4aa1b962c",
   "metadata": {},
   "outputs": [],
   "source": []
  },
  {
   "cell_type": "code",
   "execution_count": null,
   "id": "1efe8766-d81e-4699-98c8-96ca2b316bba",
   "metadata": {},
   "outputs": [],
   "source": []
  }
 ],
 "metadata": {
  "kernelspec": {
   "display_name": "Python 3 (ipykernel)",
   "language": "python",
   "name": "python3"
  },
  "language_info": {
   "codemirror_mode": {
    "name": "ipython",
    "version": 3
   },
   "file_extension": ".py",
   "mimetype": "text/x-python",
   "name": "python",
   "nbconvert_exporter": "python",
   "pygments_lexer": "ipython3",
   "version": "3.11.0"
  }
 },
 "nbformat": 4,
 "nbformat_minor": 5
}
